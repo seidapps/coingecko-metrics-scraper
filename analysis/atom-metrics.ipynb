{
 "cells": [
  {
   "cell_type": "code",
   "execution_count": 44,
   "metadata": {},
   "outputs": [],
   "source": [
    "import datetime\n",
    "import numpy as np\n",
    "import pandas as pd\n",
    "pd.options.display.float_format = '{:,}'.format\n",
    "\n",
    "import requests"
   ]
  },
  {
   "cell_type": "code",
   "execution_count": 34,
   "metadata": {},
   "outputs": [],
   "source": [
    "import matplotlib.dates as dt\n",
    "import matplotlib.ticker as mtick\n",
    "import matplotlib.patches as mpatches\n",
    "import matplotlib.pyplot as plt"
   ]
  },
  {
   "cell_type": "code",
   "execution_count": 35,
   "metadata": {},
   "outputs": [],
   "source": [
    "filename = '../data/coin_metrics.csv'\n",
    "df = pd.read_csv(filename)"
   ]
  },
  {
   "cell_type": "code",
   "execution_count": 40,
   "metadata": {},
   "outputs": [],
   "source": [
    "# df[df['coin_id'] == 'cosmos'].iloc[0]"
   ]
  },
  {
   "cell_type": "code",
   "execution_count": 37,
   "metadata": {},
   "outputs": [
    {
     "data": {
      "text/html": [
       "<div>\n",
       "<style scoped>\n",
       "    .dataframe tbody tr th:only-of-type {\n",
       "        vertical-align: middle;\n",
       "    }\n",
       "\n",
       "    .dataframe tbody tr th {\n",
       "        vertical-align: top;\n",
       "    }\n",
       "\n",
       "    .dataframe thead th {\n",
       "        text-align: right;\n",
       "    }\n",
       "</style>\n",
       "<table border=\"1\" class=\"dataframe\">\n",
       "  <thead>\n",
       "    <tr style=\"text-align: right;\">\n",
       "      <th></th>\n",
       "      <th>symbol</th>\n",
       "      <th>price</th>\n",
       "      <th>volume_24h</th>\n",
       "      <th>market_cap</th>\n",
       "    </tr>\n",
       "  </thead>\n",
       "  <tbody>\n",
       "    <tr>\n",
       "      <th>0</th>\n",
       "      <td>atom</td>\n",
       "      <td>39.13</td>\n",
       "      <td>2,483,887,593.0</td>\n",
       "      <td>11,119,555,004.0</td>\n",
       "    </tr>\n",
       "    <tr>\n",
       "      <th>25</th>\n",
       "      <td>dot</td>\n",
       "      <td>26.57</td>\n",
       "      <td>1,778,582,619.0</td>\n",
       "      <td>28,356,006,283.0</td>\n",
       "    </tr>\n",
       "    <tr>\n",
       "      <th>24</th>\n",
       "      <td>AVAX</td>\n",
       "      <td>95.27</td>\n",
       "      <td>1,300,748,454.0</td>\n",
       "      <td>23,168,520,816.0</td>\n",
       "    </tr>\n",
       "    <tr>\n",
       "      <th>9</th>\n",
       "      <td>cro</td>\n",
       "      <td>0.507124</td>\n",
       "      <td>351,203,372.0</td>\n",
       "      <td>12,760,090,594.0</td>\n",
       "    </tr>\n",
       "    <tr>\n",
       "      <th>4</th>\n",
       "      <td>band</td>\n",
       "      <td>5.8</td>\n",
       "      <td>136,099,485.0</td>\n",
       "      <td>240,908,140.0</td>\n",
       "    </tr>\n",
       "    <tr>\n",
       "      <th>8</th>\n",
       "      <td>fet</td>\n",
       "      <td>0.544105</td>\n",
       "      <td>125,737,395.0</td>\n",
       "      <td>373,198,764.0</td>\n",
       "    </tr>\n",
       "    <tr>\n",
       "      <th>12</th>\n",
       "      <td>osmo</td>\n",
       "      <td>8.33</td>\n",
       "      <td>83,287,642.0</td>\n",
       "      <td>2,202,975,980.0</td>\n",
       "    </tr>\n",
       "    <tr>\n",
       "      <th>1</th>\n",
       "      <td>kava</td>\n",
       "      <td>4.22</td>\n",
       "      <td>81,986,583.0</td>\n",
       "      <td>614,602,716.0</td>\n",
       "    </tr>\n",
       "    <tr>\n",
       "      <th>23</th>\n",
       "      <td>qnt</td>\n",
       "      <td>166.36</td>\n",
       "      <td>71,581,040.0</td>\n",
       "      <td>2,209,896,821.0</td>\n",
       "    </tr>\n",
       "    <tr>\n",
       "      <th>22</th>\n",
       "      <td>icx</td>\n",
       "      <td>1.13</td>\n",
       "      <td>61,118,427.0</td>\n",
       "      <td>783,307,852.0</td>\n",
       "    </tr>\n",
       "  </tbody>\n",
       "</table>\n",
       "</div>"
      ],
      "text/plain": [
       "   symbol    price      volume_24h       market_cap\n",
       "0    atom    39.13 2,483,887,593.0 11,119,555,004.0\n",
       "25    dot    26.57 1,778,582,619.0 28,356,006,283.0\n",
       "24   AVAX    95.27 1,300,748,454.0 23,168,520,816.0\n",
       "9     cro 0.507124   351,203,372.0 12,760,090,594.0\n",
       "4    band      5.8   136,099,485.0    240,908,140.0\n",
       "8     fet 0.544105   125,737,395.0    373,198,764.0\n",
       "12   osmo     8.33    83,287,642.0  2,202,975,980.0\n",
       "1    kava     4.22    81,986,583.0    614,602,716.0\n",
       "23    qnt   166.36    71,581,040.0  2,209,896,821.0\n",
       "22    icx     1.13    61,118,427.0    783,307,852.0"
      ]
     },
     "execution_count": 37,
     "metadata": {},
     "output_type": "execute_result"
    }
   ],
   "source": [
    "price_volume_columns = ['symbol', 'price', 'volume_24h', 'market_cap']\n",
    "\n",
    "(\n",
    "    df[price_volume_columns]\n",
    "        .sort_values('volume_24h', ascending=False)\n",
    "        .head(10)\n",
    ")\n"
   ]
  },
  {
   "cell_type": "code",
   "execution_count": 38,
   "metadata": {},
   "outputs": [],
   "source": [
    "df_graph = (\n",
    "    df[['symbol', 'volume_24h']]\n",
    "        .sort_values('volume_24h', ascending=False)\n",
    "        .head(8)\n",
    ")\n",
    "\n",
    "x = np.arange(0, len(df_graph['symbol']))\n",
    "y = np.array(df_graph['volume_24h'])\n",
    "labels = np.array(df_graph['symbol'])"
   ]
  },
  {
   "cell_type": "code",
   "execution_count": 39,
   "metadata": {},
   "outputs": [
    {
     "data": {
      "text/plain": [
       "<BarContainer object of 8 artists>"
      ]
     },
     "execution_count": 39,
     "metadata": {},
     "output_type": "execute_result"
    },
    {
     "data": {
      "image/png": "[encoded data removed]",
      "text/plain": [
       "<Figure size 864x432 with 1 Axes>"
      ]
     },
     "metadata": {
      "needs_background": "light"
     },
     "output_type": "display_data"
    }
   ],
   "source": [
    "fig, ax = plt.subplots(figsize=(12, 6))\n",
    "\n",
    "ax.bar(x, y, color='#28DF99')\n",
    "\n",
    "ax.set_title('Interoperability Platform Tokens \\n 24H Trading Volume (USD), Jan 6th. 2021', weight='bold', fontsize=14)\n",
    "ax.set_xlabel('Interoperability Platform Tokens', weight='bold', fontsize=14)\n",
    "ax.set_ylabel('24H Trading Volume (USD)', weight='bold', fontsize=14)\n",
    "\n",
    "ax.tick_params(axis='x', labelrotation=45)\n",
    "ax.set_xticks(x)\n",
    "ax.set_xticklabels(labels)\n",
    "\n",
    "ax.get_yaxis().set_major_formatter(\n",
    "    mtick.FuncFormatter(lambda x, p: format(int(x), ',')))\n",
    "\n",
    "# Align on the right\n",
    "for tick in ax.xaxis.get_majorticklabels():\n",
    "    tick.set_horizontalalignment(\"right\")\n",
    "\n",
    "# ax.grid(color='#EFEFEF', which='major', axis='both')\n",
    "ax.grid(zorder=0, color='#EFEFEF')\n",
    "ax.bar(range(len(y)), y, width=0.75, color='#28DF99', align='center', zorder=3)"
   ]
  },
  {
   "cell_type": "markdown",
   "metadata": {},
   "source": [
    "### Price Changes"
   ]
  },
  {
   "cell_type": "code",
   "execution_count": 45,
   "metadata": {},
   "outputs": [],
   "source": [
    "def get_coin_price_on_date(coin, date):\n",
    "    url = \"https://api.coingecko.com/api/v3/coins/{0}/history?date={1}\".format(coin, date)\n",
    "    r = requests.get(url)\n",
    "\n",
    "    result = r.json()\n",
    "    price = result['market_data']['current_price']['usd']\n",
    "\n",
    "    return float(price)"
   ]
  },
  {
   "cell_type": "code",
   "execution_count": 51,
   "metadata": {},
   "outputs": [
    {
     "name": "stdout",
     "output_type": "stream",
     "text": [
      "Current price: 39.03544764836552\n",
      "Price 6 months ago: 13.315208567327966\n",
      "6 month change: 193.16%\n"
     ]
    }
   ],
   "source": [
    "coin_id = 'cosmos'\n",
    "day_today = datetime.datetime.today().strftime('%d-%m-%Y')\n",
    "day_6m = (datetime.datetime.today() - datetime.timedelta(days=30*6)).strftime('%d-%m-%Y') # 30*6 estimate for 6 months\n",
    "\n",
    "price_today = get_coin_price_on_date(coin_id, day_today)\n",
    "price_6m = get_coin_price_on_date(coin_id, day_6m)\n",
    "price_change = (price_today - price_6m) / price_6m\n",
    "\n",
    "print (\"Current price: {}\".format(price_today))\n",
    "print (\"Price 6 months ago: {}\".format(price_6m))\n",
    "print (\"6 month change: {:.2%}\".format(price_change))\n"
   ]
  },
  {
   "cell_type": "code",
   "execution_count": null,
   "metadata": {},
   "outputs": [],
   "source": []
  }
 ],
 "metadata": {
  "interpreter": {
   "hash": "31f2aee4e71d21fbe5cf8b01ff0e069b9275f58929596ceb00d14d90e3e16cd6"
  },
  "kernelspec": {
   "display_name": "Python 3.8.9 64-bit",
   "language": "python",
   "name": "python3"
  },
  "language_info": {
   "codemirror_mode": {
    "name": "ipython",
    "version": 3
   },
   "file_extension": ".py",
   "mimetype": "text/x-python",
   "name": "python",
   "nbconvert_exporter": "python",
   "pygments_lexer": "ipython3",
   "version": "3.8.9"
  },
  "orig_nbformat": 4
 },
 "nbformat": 4,
 "nbformat_minor": 2
}
