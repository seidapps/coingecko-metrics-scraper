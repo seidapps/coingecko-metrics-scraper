{
 "cells": [
  {
   "cell_type": "code",
   "execution_count": 3,
   "id": "7bf0bfb3",
   "metadata": {},
   "outputs": [
    {
     "ename": "ModuleNotFoundError",
     "evalue": "No module named 'pandasql'",
     "output_type": "error",
     "traceback": [
      "\u001b[0;31m---------------------------------------------------------------------------\u001b[0m",
      "\u001b[0;31mModuleNotFoundError\u001b[0m                       Traceback (most recent call last)",
      "\u001b[0;32m/var/folders/sy/kby8_mpn1bq4pvhvtrz_dnnh0000gn/T/ipykernel_93576/313526839.py\u001b[0m in \u001b[0;36m<module>\u001b[0;34m\u001b[0m\n\u001b[1;32m      1\u001b[0m \u001b[0;32mimport\u001b[0m \u001b[0mpandas\u001b[0m \u001b[0;32mas\u001b[0m \u001b[0mpd\u001b[0m\u001b[0;34m\u001b[0m\u001b[0;34m\u001b[0m\u001b[0m\n\u001b[0;32m----> 2\u001b[0;31m \u001b[0;32mimport\u001b[0m \u001b[0mpandasql\u001b[0m \u001b[0;32mas\u001b[0m \u001b[0mps\u001b[0m\u001b[0;34m\u001b[0m\u001b[0;34m\u001b[0m\u001b[0m\n\u001b[0m",
      "\u001b[0;31mModuleNotFoundError\u001b[0m: No module named 'pandasql'"
     ]
    }
   ],
   "source": [
    "import pandas as pd\n",
    "import pandasql as ps"
   ]
  },
  {
   "cell_type": "code",
   "execution_count": null,
   "id": "6578fc2a",
   "metadata": {},
   "outputs": [],
   "source": [
    "filename = '../data/exchange_metrics.csv'\n",
    "df_exchanges = pd.read_csv(filename)"
   ]
  },
  {
   "cell_type": "code",
   "execution_count": null,
   "id": "1453795a",
   "metadata": {},
   "outputs": [],
   "source": [
    "df_exchanges.iloc[0]"
   ]
  },
  {
   "cell_type": "code",
   "execution_count": null,
   "id": "7aec3311",
   "metadata": {},
   "outputs": [],
   "source": [
    "filename = '../data/coin_metrics.csv'\n",
    "df_coins = pd.read_csv(filename)"
   ]
  },
  {
   "cell_type": "code",
   "execution_count": null,
   "id": "0575f353",
   "metadata": {},
   "outputs": [],
   "source": [
    "df_coins.iloc[0]"
   ]
  },
  {
   "cell_type": "markdown",
   "id": "1d169e63",
   "metadata": {},
   "source": [
    "### Exchange Metrics"
   ]
  },
  {
   "cell_type": "code",
   "execution_count": null,
   "id": "0ee259e3",
   "metadata": {},
   "outputs": [],
   "source": [
    "sql_string = \"\"\"\n",
    "    WITH num_exchanges AS (\n",
    "        SELECT coin_name, symbol, COUNT(DISTINCT market_name) AS num_exchanges\n",
    "        FROM df_exchanges\n",
    "        GROUP BY 1, 2\n",
    "    )\n",
    "    \n",
    "    top_exchange_by_volume AS (\n",
    "        SELECT coin_name, symbol, market_name, MAX(volume) AS max_volume\n",
    "        FROM df_exchanges\n",
    "        GROUP by 1, 2, 3\n",
    "    )    \n",
    "    \n",
    "    SELECT \n",
    "        coin_name, \n",
    "        symbol, \n",
    "        price, \n",
    "        max_volume,\n",
    "        volume_24h\n",
    "        max_volume*1.0/ volume_24h*1.0\n",
    "    FROM df_coins AS A \n",
    "    JOIN total_num_exchanges AS B\n",
    "    ON \n",
    "        A.coin_name = B.coin_name AND \n",
    "        A.symbol = B.symbol \n",
    "    JOIN top_exchange_by_volume AS B\n",
    "    ON \n",
    "        A.coin_name = B.coin_name AND \n",
    "        A.symbol = B.symbol\n",
    "\"\"\"\n",
    "\n",
    "ps.sqldf(sql_string)"
   ]
  },
  {
   "cell_type": "code",
   "execution_count": null,
   "id": "82fedb45",
   "metadata": {},
   "outputs": [],
   "source": [
    "# df_exchanges_count =  (\n",
    "#     df_exchanges[['coin_name', 'symbol', 'market_name']]\n",
    "#         .groupby(['coin_name', 'symbol'])\n",
    "#         .count()\n",
    "#         .reset_index()\n",
    "#         .rename(columns={'market_name':'num_exchanges'})\n",
    "#         .sort_values('num_exchanges', ascending=False)\n",
    "# )\n",
    "\n",
    "# df_exchanges_count = (\n",
    "#     df_exchanges_count\n",
    "#         .merge(\n",
    "#            df_coingecko[['coin_name', 'symbol', 'price', 'volume_24']], \n",
    "#            on=['coin_name', 'symbol'], \n",
    "#            how='left'\n",
    "#         )\n",
    "# )\n",
    "\n",
    "df_exchanges_top_volume = (\n",
    "    df_exchanges[['coin_name', 'symbol', 'volume']]\n",
    "        .groupby(['coin_name', 'symbol'])\n",
    "        .max()\n",
    "        .reset_index()\n",
    "        .rename(columns={'volume':'top_volume'})\n",
    "        .sort_values('top_volume', ascending=False)\n",
    ")\n",
    "\n",
    "\n",
    "df_exchange_top_market = (\n",
    "    df_exchanges[['coin_name', 'symbol', 'market_name', 'volume', 'pp_volume_format']]\n",
    "        .merge(\n",
    "           df_exchanges_top_volume[['coin_name', 'symbol', 'top_volume']], \n",
    "           on=['coin_name', 'symbol'], \n",
    "           how='inner'            \n",
    "        )\n",
    "        .query('volume == top_volume')[['coin_name', 'symbol', 'market_name', 'pp_volume_format']]\n",
    ")\n",
    "\n",
    "# print (df_exchanges_count.head(6))\n",
    "\n",
    "# print (df_exchange_top_market.head(6))\n",
    "\n",
    "# df_exchanges_combined = (\n",
    "#     df_exchanges_count\n",
    "#         .merge(\n",
    "#             df_exchange_top_market,\n",
    "#             on=['coin_name', 'symbol'], \n",
    "#             how='left'            \n",
    "#         )[['coin_name', 'symbol', 'volume_24', 'num_exchanges', 'market_name', 'pp_volume_format']]\n",
    "# )\n",
    "\n",
    "# df_exchanges_combined.to_csv(\n",
    "#     '/Users/jamesinseidel/Documents/crypto-research/cosmos/tables/coingecko_exchanges.csv')"
   ]
  }
 ],
 "metadata": {
  "kernelspec": {
   "display_name": "Python 3 (ipykernel)",
   "language": "python",
   "name": "python3"
  },
  "language_info": {
   "codemirror_mode": {
    "name": "ipython",
    "version": 3
   },
   "file_extension": ".py",
   "mimetype": "text/x-python",
   "name": "python",
   "nbconvert_exporter": "python",
   "pygments_lexer": "ipython3",
   "version": "3.8.9"
  }
 },
 "nbformat": 4,
 "nbformat_minor": 5
}
